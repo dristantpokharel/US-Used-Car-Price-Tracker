{
 "cells": [
  {
   "cell_type": "markdown",
   "metadata": {},
   "source": [
    "## Automated Email Notification Setup\n",
    "\n",
    "### Goal: \n",
    "The script is coded to send an email notification if a used Honda Pilot car with Price < 35000, Miles < 30000 and State = TX is found."
   ]
  },
  {
   "cell_type": "markdown",
   "metadata": {},
   "source": [
    "### Step 0: Import the packages"
   ]
  },
  {
   "cell_type": "code",
   "execution_count": 1,
   "metadata": {},
   "outputs": [],
   "source": [
    "#!/opt/anaconda3/bin/python\n",
    "\n",
    "import os\n",
    "import pyodbc                           # To connect SQL and Python\n",
    "import smtplib                          # For email\n",
    "from email.mime.text import MIMEText    # Email message in text\n",
    "import logging                          # Store the update info as logs in text file\n",
    "from datetime import datetime           # Date and time manipulation"
   ]
  },
  {
   "cell_type": "markdown",
   "metadata": {},
   "source": [
    "### Step 1: Define directories, file paths\n",
    "We set up two log files and ensure the directories and files we need are in place.\n",
    "\n",
    "Purpose:\n",
    "1. A log file for recording the timestamp each time the code is executed and checking if any new VINs are found.\n",
    "\n",
    "2. A file to store previous VINs, allowing us to compare existing VINs in the database with new ones, so we only log or process new, unique VINs."
   ]
  },
  {
   "cell_type": "code",
   "execution_count": 2,
   "metadata": {},
   "outputs": [],
   "source": [
    "# Define path to create the log files\n",
    "directory_path = 'Your/directory/path/here'\n",
    "log_file_path = os.path.join(directory_path, 'vin_check.log')       # To log time, and if new VINs were found\n",
    "vin_file_path = os.path.join(directory_path, 'previous_vins.txt')   # File to store previous VINs, to cross check with any new entries\n",
    "\n",
    "# Creates the directory if it already doesn't exist\n",
    "os.makedirs(directory_path, exist_ok=True)\n",
    "\n",
    "# Sets up the log, to track the time of code execution, new VINs.\n",
    "logging.basicConfig(filename=log_file_path, level=logging.INFO, format='%(asctime)s - %(message)s')"
   ]
  },
  {
   "cell_type": "markdown",
   "metadata": {},
   "source": [
    "### Step 2: Setup Email Notifications"
   ]
  },
  {
   "cell_type": "code",
   "execution_count": null,
   "metadata": {},
   "outputs": [],
   "source": [
    "# Starting a function to send email notification, if a certain criteria of a car is made. \n",
    "# Email Address and Password is for SMTP authentication.\n",
    "def send_email(new_entries):\n",
    "    EMAIL_ADDRESS = \"YourEmailAddressHere@gmx.com\"\n",
    "    EMAIL_PASSWORD = \"EmailPasswordHere!\"\n",
    "    RECIPIENT_EMAIL = \"ReceipientEmailAddressHere\"\n",
    "\n",
    "    subject = \"New VIN Entries Found in Honda Pilot Table\"\n",
    "    body = \"New VIN Entries:\\n\" + \"\\n\".join([f\"Year: {entry.Year}, Model: {entry.Model}, Price: {entry.Price}, Miles: {entry.Miles}, URL: {entry.URL}, VIN: {entry.VIN}\" for entry in new_entries])\n",
    "\n",
    "    msg = MIMEText(body) # MIMEText writes the email, with subject, sender, recipients.\n",
    "    msg['Subject'] = subject \n",
    "    msg['From'] = EMAIL_ADDRESS\n",
    "    msg['To'] = RECIPIENT_EMAIL\n",
    "\n",
    "    try: # Creates connection with gmx's SMTP server, login details for authentication.\n",
    "        with smtplib.SMTP_SSL('smtp.gmx.com', 465) as server:\n",
    "            server.login(EMAIL_ADDRESS, EMAIL_PASSWORD)\n",
    "            server.send_message(msg)\n",
    "        logging.info(\"Email sent successfully.\")\n",
    "        return True\n",
    "    except Exception as e:\n",
    "        logging.error(f\"Error sending email: {e}\") # For success or error logging. \n",
    "        return False\n"
   ]
  },
  {
   "cell_type": "markdown",
   "metadata": {},
   "source": [
    "### Step 3: Query data from SQL database"
   ]
  },
  {
   "cell_type": "code",
   "execution_count": null,
   "metadata": {},
   "outputs": [],
   "source": [
    "# In this step, we connect to the SQL Server, look into the database and retreive required information.\n",
    "# Using Docker as Data Container in my case, using SQL on Azure Data Studio.\n",
    "\n",
    "def check_new_vin(previous_vin_set):\n",
    "    connection = pyodbc.connect(\n",
    "        'DRIVER={ODBC Driver 18 for SQL Server};'\n",
    "        'SERVER=localhost;'\n",
    "        'DATABASE=DatabaseNameHere;'\n",
    "        'UID=SA;'\n",
    "        'PWD=YourPasswordHere;'\n",
    "        'Encrypt=yes;'\n",
    "        'TrustServerCertificate=yes;'\n",
    "        'Connection Timeout=30;'\n",
    "    )\n",
    "\n",
    "    cursor = connection.cursor()  \n",
    "    # Writing the SQL query here to retreive the car that is desired.\n",
    "    query = \"\"\"\n",
    "        SELECT Year, Model, Price, Miles, VIN, URL \n",
    "        FROM honda_pilot \n",
    "        WHERE Price < 35000 AND Miles < 30000\n",
    "        AND State = 'TX'\n",
    "    \"\"\"\n",
    "    cursor.execute(query)\n",
    "    new_entries = cursor.fetchall()  # Fetch all records that meet the conditions\n",
    "    \n",
    "    # Creates a set for new VIN which meets above conditions.\n",
    "    new_vin_set = {row.VIN for row in new_entries}\n",
    "    # Check for new VINs.\n",
    "    new_vins = new_vin_set - previous_vin_set  \n",
    "\n",
    "    # Every time the code is run, a log with date, time is made. \n",
    "    logging.info(f\"Code run at {datetime.now().strftime('%Y-%m-%d %H:%M:%S')}\")\n",
    "\n",
    "    if new_vins:\n",
    "        # Log the unique new VIN entries\n",
    "        filtered_new_entries = [row for row in new_entries if row.VIN in new_vins]\n",
    "        logging.info(f\"New unique VIN entries found: {len(filtered_new_entries)}\")\n",
    "        for entry in filtered_new_entries:\n",
    "            logging.info(f\"New VIN: {entry.VIN}, Year: {entry.Year}, Model: {entry.Model}, Price: {entry.Price}, Miles: {entry.Miles}, URL: {entry.URL}\")\n",
    "\n",
    "        # Send email notification if a new VIN is identified.\n",
    "        email_sent = send_email(filtered_new_entries)\n",
    "        if email_sent:\n",
    "            logging.info(\"Email sent successfully with new VIN entries.\")\n",
    "        else:\n",
    "            logging.info(\"Email was not sent due to an error.\")\n",
    "    # For no new entries:\n",
    "    else:\n",
    "        logging.info(\"No new unique VINs detected.\")\n",
    "\n",
    "    cursor.close()\n",
    "    connection.close() # Closes the SQL server connection. \n",
    "\n",
    "    return new_vin_set  \n",
    "# Returns the new VIN set for next comparison.\n",
    "# Closing the function"
   ]
  },
  {
   "cell_type": "markdown",
   "metadata": {},
   "source": [
    "### Step 4: Cross-Checking for new VIN & Logging\n",
    "The above queried data is retreived and checked with the previously queried data, where unique VINs are stored in a text file.\n",
    "If a new VIN is identified, an email notification is sent."
   ]
  },
  {
   "cell_type": "code",
   "execution_count": 5,
   "metadata": {},
   "outputs": [],
   "source": [
    "# Loading the previous VINs from the file\n",
    "if os.path.exists(vin_file_path):\n",
    "    with open(vin_file_path, 'r') as f:\n",
    "        lines = f.readlines()\n",
    "        if lines:\n",
    "            previous_vin_set = set(line.strip() for line in lines)  # This retreives the above recorded VIN for comparison.\n",
    "        else:\n",
    "            previous_vin_set = set()  \n",
    "else:\n",
    "    previous_vin_set = set()  # Defaults to empty set if the file does not exist\n",
    "\n",
    "# Run the function\n",
    "previous_vin_set = check_new_vin(previous_vin_set)"
   ]
  },
  {
   "cell_type": "code",
   "execution_count": null,
   "metadata": {},
   "outputs": [],
   "source": [
    "# If new VINs are recorded, this saves it to a file. This will be reviewed by the future queries to identify new VIN entry.\n",
    "with open(vin_file_path, 'w') as f:\n",
    "    for vin in previous_vin_set:\n",
    "        f.write(f\"{vin}\\n\")\n",
    "\n",
    "# Ensure the logging is flushed to the log file\n",
    "logging.shutdown()"
   ]
  }
 ],
 "metadata": {
  "kernelspec": {
   "display_name": "Python 3",
   "language": "python",
   "name": "python3"
  },
  "language_info": {
   "codemirror_mode": {
    "name": "ipython",
    "version": 3
   },
   "file_extension": ".py",
   "mimetype": "text/x-python",
   "name": "python",
   "nbconvert_exporter": "python",
   "pygments_lexer": "ipython3",
   "version": "3.9.6"
  }
 },
 "nbformat": 4,
 "nbformat_minor": 2
}
